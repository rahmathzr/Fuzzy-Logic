{
  "nbformat": 4,
  "nbformat_minor": 0,
  "metadata": {
    "colab": {
      "name": "Tugas Besar Fuzzy Logic",
      "provenance": [],
      "collapsed_sections": []
    },
    "kernelspec": {
      "name": "python3",
      "display_name": "Python 3"
    },
    "language_info": {
      "name": "python"
    }
  },
  "cells": [
    {
      "cell_type": "code",
      "metadata": {
        "id": "LETTEBQzhqFD"
      },
      "source": [
        "import pandas as pd\n",
        "import numpy as np"
      ],
      "execution_count": null,
      "outputs": []
    },
    {
      "cell_type": "code",
      "metadata": {
        "id": "y4MmvWO1heEj"
      },
      "source": [
        "data_pemohon = pd.read_excel('masukan.xlsx')"
      ],
      "execution_count": null,
      "outputs": []
    },
    {
      "cell_type": "code",
      "metadata": {
        "id": "xzrPUOvNhsxL",
        "colab": {
          "base_uri": "https://localhost:8080/",
          "height": 419
        },
        "outputId": "5c2ecfc5-994f-43a5-dc35-216f3c68bf14"
      },
      "source": [
        "data_pemohon"
      ],
      "execution_count": null,
      "outputs": [
        {
          "output_type": "execute_result",
          "data": {
            "text/html": [
              "<div>\n",
              "<style scoped>\n",
              "    .dataframe tbody tr th:only-of-type {\n",
              "        vertical-align: middle;\n",
              "    }\n",
              "\n",
              "    .dataframe tbody tr th {\n",
              "        vertical-align: top;\n",
              "    }\n",
              "\n",
              "    .dataframe thead th {\n",
              "        text-align: right;\n",
              "    }\n",
              "</style>\n",
              "<table border=\"1\" class=\"dataframe\">\n",
              "  <thead>\n",
              "    <tr style=\"text-align: right;\">\n",
              "      <th></th>\n",
              "      <th>id</th>\n",
              "      <th>pinjaman</th>\n",
              "      <th>pemasukan</th>\n",
              "    </tr>\n",
              "  </thead>\n",
              "  <tbody>\n",
              "    <tr>\n",
              "      <th>0</th>\n",
              "      <td>1</td>\n",
              "      <td>15</td>\n",
              "      <td>4</td>\n",
              "    </tr>\n",
              "    <tr>\n",
              "      <th>1</th>\n",
              "      <td>2</td>\n",
              "      <td>9</td>\n",
              "      <td>60</td>\n",
              "    </tr>\n",
              "    <tr>\n",
              "      <th>2</th>\n",
              "      <td>3</td>\n",
              "      <td>3</td>\n",
              "      <td>7</td>\n",
              "    </tr>\n",
              "    <tr>\n",
              "      <th>3</th>\n",
              "      <td>4</td>\n",
              "      <td>5</td>\n",
              "      <td>6</td>\n",
              "    </tr>\n",
              "    <tr>\n",
              "      <th>4</th>\n",
              "      <td>5</td>\n",
              "      <td>2</td>\n",
              "      <td>3</td>\n",
              "    </tr>\n",
              "    <tr>\n",
              "      <th>...</th>\n",
              "      <td>...</td>\n",
              "      <td>...</td>\n",
              "      <td>...</td>\n",
              "    </tr>\n",
              "    <tr>\n",
              "      <th>95</th>\n",
              "      <td>96</td>\n",
              "      <td>25</td>\n",
              "      <td>36</td>\n",
              "    </tr>\n",
              "    <tr>\n",
              "      <th>96</th>\n",
              "      <td>97</td>\n",
              "      <td>17</td>\n",
              "      <td>4</td>\n",
              "    </tr>\n",
              "    <tr>\n",
              "      <th>97</th>\n",
              "      <td>98</td>\n",
              "      <td>1</td>\n",
              "      <td>54</td>\n",
              "    </tr>\n",
              "    <tr>\n",
              "      <th>98</th>\n",
              "      <td>99</td>\n",
              "      <td>7</td>\n",
              "      <td>15</td>\n",
              "    </tr>\n",
              "    <tr>\n",
              "      <th>99</th>\n",
              "      <td>100</td>\n",
              "      <td>8</td>\n",
              "      <td>26</td>\n",
              "    </tr>\n",
              "  </tbody>\n",
              "</table>\n",
              "<p>100 rows × 3 columns</p>\n",
              "</div>"
            ],
            "text/plain": [
              "     id  pinjaman  pemasukan\n",
              "0     1        15          4\n",
              "1     2         9         60\n",
              "2     3         3          7\n",
              "3     4         5          6\n",
              "4     5         2          3\n",
              "..  ...       ...        ...\n",
              "95   96        25         36\n",
              "96   97        17          4\n",
              "97   98         1         54\n",
              "98   99         7         15\n",
              "99  100         8         26\n",
              "\n",
              "[100 rows x 3 columns]"
            ]
          },
          "metadata": {
            "tags": []
          },
          "execution_count": 4
        }
      ]
    },
    {
      "cell_type": "code",
      "metadata": {
        "id": "GEKMtzl-fRQV"
      },
      "source": [
        "def fuzzification_pinjaman(pinjaman):\n",
        "  if pinjaman >= 25:\n",
        "    Banyak = 1\n",
        "  elif pinjaman >= 10 and pinjaman < 25:\n",
        "    Banyak = (pinjaman - 10) / (25 - 10)\n",
        "  else:\n",
        "    Banyak = 0\n",
        "\n",
        "  if pinjaman < 2 and pinjaman > 0:\n",
        "    Sedikit = 1\n",
        "  elif pinjaman >= 2 and pinjaman < 4:\n",
        "    Sedikit = (pinjaman - 2) / (4 - 2)\n",
        "  else:\n",
        "    Sedikit = 0\n",
        "\n",
        "  if pinjaman > 5 and pinjaman <= 8:\n",
        "    Sedang = 1\n",
        "  elif pinjaman >= 2.5 and pinjaman < 15:\n",
        "    Sedang = (pinjaman - 2.5) / (15 - 2.5)\n",
        "  else:\n",
        "    Sedang = 0\n",
        "  list1 = [Banyak, Sedang, Sedikit]\n",
        "  return list1\n",
        "\n",
        "hasil_fuzzy_pinjaman = []\n",
        "\n",
        "for i in range (100):\n",
        "  hasil_fuzzy_pinjaman.append(fuzzification_pinjaman(data_pemohon[\"pinjaman\"][i]))\n",
        "\n"
      ],
      "execution_count": null,
      "outputs": []
    },
    {
      "cell_type": "code",
      "metadata": {
        "colab": {
          "base_uri": "https://localhost:8080/"
        },
        "id": "ytNh4P-C79fb",
        "outputId": "3d624445-0c77-4046-85b1-3d4c29e89915"
      },
      "source": [
        "print(hasil_fuzzy_pinjaman)"
      ],
      "execution_count": null,
      "outputs": [
        {
          "output_type": "stream",
          "text": [
            "[[0.3333333333333333, 0, 0], [0, 0.52, 0], [0, 0.04, 0.5], [0, 0.2, 0], [0, 0, 0.0], [1, 0, 0], [0.06666666666666667, 0.68, 0], [0, 1, 0], [0, 0.12, 0], [0.8666666666666667, 0, 0], [1, 0, 0], [0.6666666666666666, 0, 0], [0, 1, 0], [0, 0, 1], [0, 1, 0], [0.6, 0, 0], [0, 1, 0], [1, 0, 0], [0.13333333333333333, 0.76, 0], [0.2, 0.84, 0], [0, 0, 1], [0, 0, 0.0], [0, 0.04, 0.5], [0, 0.12, 0], [0, 1, 0], [0, 1, 0], [0, 1, 0], [0, 0.52, 0], [0.0, 0.6, 0], [0, 0.2, 0], [0, 0.2, 0], [0.6666666666666666, 0, 0], [0.6666666666666666, 0, 0], [0.13333333333333333, 0.76, 0], [1, 0, 0], [0.3333333333333333, 0, 0], [0.3333333333333333, 0, 0], [0.3333333333333333, 0, 0], [0.3333333333333333, 0, 0], [0.3333333333333333, 0, 0], [0.3333333333333333, 0, 0], [1, 0, 0], [1, 0, 0], [1, 0, 0], [0, 0, 1], [0, 0.12, 0], [1, 0, 0], [1, 0, 0], [1, 0, 0], [0.06666666666666667, 0.68, 0], [1, 0, 0], [1, 0, 0], [0.0, 0.6, 0], [0, 1, 0], [0, 0, 0.0], [0, 0.2, 0], [0, 0.12, 0], [0.6666666666666666, 0, 0], [1, 0, 0], [1, 0, 0], [1, 0, 0], [1, 0, 0], [1, 0, 0], [1, 0, 0], [1, 0, 0], [1, 0, 0], [1, 0, 0], [1, 0, 0], [1, 0, 0], [0.6, 0, 0], [0.6, 0, 0], [0.6, 0, 0], [0.6, 0, 0], [0.6, 0, 0], [0.6, 0, 0], [0.6, 0, 0], [0.6, 0, 0], [0.6, 0, 0], [0.6, 0, 0], [0.6, 0, 0], [0.6, 0, 0], [0.6, 0, 0], [0.6, 0, 0], [0.6, 0, 0], [0.6, 0, 0], [0.6, 0, 0], [0.6, 0, 0], [0.6, 0, 0], [0.6, 0, 0], [0.6, 0, 0], [0.6, 0, 0], [0.6, 0, 0], [0.6, 0, 0], [0.6, 0, 0], [0.0, 0.6, 0], [1, 0, 0], [0.4666666666666667, 0, 0], [0, 0, 1], [0, 1, 0], [0, 1, 0]]\n"
          ],
          "name": "stdout"
        }
      ]
    },
    {
      "cell_type": "code",
      "metadata": {
        "colab": {
          "base_uri": "https://localhost:8080/"
        },
        "id": "2WyMGopDtoQ4",
        "outputId": "4e5b840a-4d3d-4c3d-be3c-c626f2eb8fae"
      },
      "source": [
        "array = [6]\n",
        "\n",
        "array[0] = 'a'\n",
        "print(array)"
      ],
      "execution_count": null,
      "outputs": [
        {
          "output_type": "stream",
          "text": [
            "['a']\n"
          ],
          "name": "stdout"
        }
      ]
    },
    {
      "cell_type": "code",
      "metadata": {
        "id": "rvySN5FTifsi"
      },
      "source": [
        "def fuzzification_pemasukan(pemasukan):\n",
        "  if pemasukan >= 30:\n",
        "    Besar = 1\n",
        "  elif pemasukan >= 18 and pemasukan < 30:\n",
        "    Besar = (pemasukan - 18) / (30 - 18)\n",
        "  else:\n",
        "    Besar = 0\n",
        "\n",
        "  if pemasukan <= 1.5 and pemasukan > 0:\n",
        "    Kecil = 1\n",
        "  elif pemasukan >= 2 and pemasukan < 6:\n",
        "    Kecil = (pemasukan - 2) / (4 - 2)\n",
        "  else:\n",
        "    Kecil = 0\n",
        "\n",
        "  if pemasukan > 8 and pemasukan <= 15:\n",
        "    Menengah = 1\n",
        "  elif pemasukan >= 3 and pemasukan < 22:\n",
        "    Menengah = (pemasukan - 2.5) / (22 - 3)\n",
        "  else:\n",
        "    Menengah = 0\n",
        "  list2 = [Besar, Menengah, Kecil]\n",
        "  return list2 \n",
        "\n",
        "hasil_fuzzy_pemasukan = []\n",
        "\n",
        "for q in range (100):\n",
        "  hasil_fuzzy_pemasukan.append(fuzzification_pemasukan(data_pemohon[\"pemasukan\"][q]))\n",
        "\n"
      ],
      "execution_count": null,
      "outputs": []
    },
    {
      "cell_type": "code",
      "metadata": {
        "colab": {
          "base_uri": "https://localhost:8080/"
        },
        "id": "aZx7yINx8L5C",
        "outputId": "2c66a193-4216-497c-e8a7-449880864406"
      },
      "source": [
        "print(hasil_fuzzy_pemasukan)"
      ],
      "execution_count": null,
      "outputs": [
        {
          "output_type": "stream",
          "text": [
            "[[0, 0.07894736842105263, 1.0], [1, 0, 0], [0, 0.23684210526315788, 0], [0, 0.18421052631578946, 0], [0, 0.02631578947368421, 0.5], [0.0, 0.8157894736842105, 0], [0, 1, 0], [0, 1, 0], [0, 0.23684210526315788, 0], [0, 0.18421052631578946, 0], [0, 1, 0], [1, 0, 0], [0, 1, 0], [0, 1, 0], [0.25, 0.9736842105263158, 0], [0.16666666666666666, 0.9210526315789473, 0], [0, 1, 0], [1, 0, 0], [0, 0.02631578947368421, 0.5], [0, 0.13157894736842105, 1.5], [0.16666666666666666, 0.9210526315789473, 0], [0.16666666666666666, 0.9210526315789473, 0], [0.16666666666666666, 0.9210526315789473, 0], [0.16666666666666666, 0.9210526315789473, 0], [0.5833333333333334, 0, 0], [0.5833333333333334, 0, 0], [0.5833333333333334, 0, 0], [0.5833333333333334, 0, 0], [0.5833333333333334, 0, 0], [0, 0.7631578947368421, 0], [1, 0, 0], [0, 1, 0], [1, 0, 0], [0, 0.07894736842105263, 1.0], [0.16666666666666666, 0.9210526315789473, 0], [0, 0.7105263157894737, 0], [0, 1, 0], [0.75, 0, 0], [0.9166666666666666, 0, 0], [0.3333333333333333, 0, 0], [1, 0, 0], [1, 0, 0], [1, 0, 0], [1, 0, 0], [0.5833333333333334, 0, 0], [0, 0.07894736842105263, 1.0], [1, 0, 0], [1, 0, 0], [0, 0.7631578947368421, 0], [0, 1, 0], [0.4166666666666667, 0, 0], [1, 0, 0], [1, 0, 0], [1, 0, 0], [1, 0, 0], [1, 0, 0], [1, 0, 0], [1, 0, 0], [1, 0, 0], [1, 0, 0], [1, 0, 0], [1, 0, 0], [1, 0, 0], [1, 0, 0], [1, 0, 0], [1, 0, 0], [1, 0, 0], [1, 0, 0], [1, 0, 0], [0, 0, 0.0], [0, 0.23684210526315788, 0], [0, 1, 0], [0, 1, 0], [0, 1, 0], [0, 0.7631578947368421, 0], [0.16666666666666666, 0.9210526315789473, 0], [0.3333333333333333, 0, 0], [0.5, 0, 0], [0.5833333333333334, 0, 0], [0.75, 0, 0], [1, 0, 0], [1, 0, 0], [0.75, 0, 0], [1, 0, 0], [1, 0, 0], [1, 0, 0], [1, 0, 0], [1, 0, 0], [1, 0, 0], [1, 0, 0], [0.6666666666666666, 0, 0], [0.9166666666666666, 0, 0], [1, 0, 0], [1, 0, 0], [0, 1, 0], [1, 0, 0], [0, 0.07894736842105263, 1.0], [1, 0, 0], [0, 1, 0], [0.6666666666666666, 0, 0]]\n"
          ],
          "name": "stdout"
        }
      ]
    },
    {
      "cell_type": "code",
      "metadata": {
        "colab": {
          "base_uri": "https://localhost:8080/"
        },
        "id": "2zzmEsuBnAp6",
        "outputId": "45bccda9-3de5-40bc-e0a7-f65d925144a4"
      },
      "source": [
        "arr = [1,5,7,8,3,12,41,9,10,11]\n",
        "for x in range (10):\n",
        "   arr[x] = x\n",
        "print(arr)"
      ],
      "execution_count": null,
      "outputs": [
        {
          "output_type": "stream",
          "text": [
            "[0, 1, 2, 3, 4, 5, 6, 7, 8, 9]\n"
          ],
          "name": "stdout"
        }
      ]
    },
    {
      "cell_type": "code",
      "metadata": {
        "colab": {
          "base_uri": "https://localhost:8080/"
        },
        "id": "NGI6lOl6PyQo",
        "outputId": "a59b70d7-3d5d-42ad-c140-6d7ca56b9283"
      },
      "source": [
        " var1 = float(hasil_fuzzy_pinjaman[0][1]) \n",
        " var2 = float(hasil_fuzzy_pemasukan[0][1])\n",
        " #min((hasil_fuzzy_pinjaman[0][1]),(hasil_fuzzy_pemasukan[0][1]))\n",
        "\n",
        "print(min(var1,var2))"
      ],
      "execution_count": null,
      "outputs": [
        {
          "output_type": "stream",
          "text": [
            "0.0\n"
          ],
          "name": "stdout"
        }
      ]
    },
    {
      "cell_type": "code",
      "metadata": {
        "id": "-J03txmli62q"
      },
      "source": [
        "\n",
        "hasil_perbandingan = hasil_fuzzy_pemasukan\n",
        "def inference(hasil_fuzzy_pinjaman, hasil_fuzzy_pemasukan):\n",
        "    hasil_fuzzy_pemasukan\n",
        "    hasil_fuzzy_pinjaman\n",
        "    \n",
        "\n",
        "    for i in range(len(hasil_fuzzy_pinjaman)):\n",
        "      for j in range(len(hasil_fuzzy_pinjaman[i])):\n",
        "        hasil_perbandingan[i][j] = min(hasil_fuzzy_pinjaman[i][i],hasil_fuzzy_pemasukan[i][j])\n",
        "    return hasil_perbandingan\n"
      ],
      "execution_count": null,
      "outputs": []
    },
    {
      "cell_type": "code",
      "metadata": {
        "colab": {
          "base_uri": "https://localhost:8080/"
        },
        "id": "aVmmkeDWEG7m",
        "outputId": "4bbf172e-7abf-4091-87a2-f658db056331"
      },
      "source": [
        "hasil_perbandingan\n",
        "print(hasil_perbandingan)"
      ],
      "execution_count": null,
      "outputs": [
        {
          "output_type": "stream",
          "text": [
            "[[0, 0.07894736842105263, 1.0], [1, 0, 0], [0, 0.23684210526315788, 0], [0, 0.18421052631578946, 0], [0, 0.02631578947368421, 0.5], [0.0, 0.8157894736842105, 0], [0, 1, 0], [0, 1, 0], [0, 0.23684210526315788, 0], [0, 0.18421052631578946, 0], [0, 1, 0], [1, 0, 0], [0, 1, 0], [0, 1, 0], [0.25, 0.9736842105263158, 0], [0.16666666666666666, 0.9210526315789473, 0], [0, 1, 0], [1, 0, 0], [0, 0.02631578947368421, 0.5], [0, 0.13157894736842105, 1.5], [0.16666666666666666, 0.9210526315789473, 0], [0.16666666666666666, 0.9210526315789473, 0], [0.16666666666666666, 0.9210526315789473, 0], [0.16666666666666666, 0.9210526315789473, 0], [0.5833333333333334, 0, 0], [0.5833333333333334, 0, 0], [0.5833333333333334, 0, 0], [0.5833333333333334, 0, 0], [0.5833333333333334, 0, 0], [0, 0.7631578947368421, 0], [1, 0, 0], [0, 1, 0], [1, 0, 0], [0, 0.07894736842105263, 1.0], [0.16666666666666666, 0.9210526315789473, 0], [0, 0.7105263157894737, 0], [0, 1, 0], [0.75, 0, 0], [0.9166666666666666, 0, 0], [0.3333333333333333, 0, 0], [1, 0, 0], [1, 0, 0], [1, 0, 0], [1, 0, 0], [0.5833333333333334, 0, 0], [0, 0.07894736842105263, 1.0], [1, 0, 0], [1, 0, 0], [0, 0.7631578947368421, 0], [0, 1, 0], [0.4166666666666667, 0, 0], [1, 0, 0], [1, 0, 0], [1, 0, 0], [1, 0, 0], [1, 0, 0], [1, 0, 0], [1, 0, 0], [1, 0, 0], [1, 0, 0], [1, 0, 0], [1, 0, 0], [1, 0, 0], [1, 0, 0], [1, 0, 0], [1, 0, 0], [1, 0, 0], [1, 0, 0], [1, 0, 0], [0, 0, 0.0], [0, 0.23684210526315788, 0], [0, 1, 0], [0, 1, 0], [0, 1, 0], [0, 0.7631578947368421, 0], [0.16666666666666666, 0.9210526315789473, 0], [0.3333333333333333, 0, 0], [0.5, 0, 0], [0.5833333333333334, 0, 0], [0.75, 0, 0], [1, 0, 0], [1, 0, 0], [0.75, 0, 0], [1, 0, 0], [1, 0, 0], [1, 0, 0], [1, 0, 0], [1, 0, 0], [1, 0, 0], [1, 0, 0], [0.6666666666666666, 0, 0], [0.9166666666666666, 0, 0], [1, 0, 0], [1, 0, 0], [0, 1, 0], [1, 0, 0], [0, 0.07894736842105263, 1.0], [1, 0, 0], [0, 1, 0], [0.6666666666666666, 0, 0]]\n"
          ],
          "name": "stdout"
        }
      ]
    },
    {
      "cell_type": "code",
      "metadata": {
        "id": "7Azb72FNoDhn",
        "colab": {
          "base_uri": "https://localhost:8080/"
        },
        "outputId": "82aa1b35-43a1-430b-bf36-4e0fc61ebe39"
      },
      "source": [
        "batas_Accepted = 100\n",
        "batas_Considered = 50\n",
        "batas_Rejected = 30\n",
        "\n",
        "hasil_perbandingan\n",
        "\n",
        "score = []\n",
        "def defuzifikasi(hasil_perbandingan):\n",
        "  for i in range(len(hasil_perbandingan)):\n",
        "    score.append(((hasil_perbandingan[i][0] * 100) + (hasil_perbandingan[i][1] * 50) + (hasil_perbandingan[i][2] * 30)) / (hasil_perbandingan[i][0] + hasil_perbandingan[i][1] + hasil_perbandingan[i][2])) \n",
        " \n",
        " \n",
        "\n",
        "defuzifikasi(hasil_perbandingan)\n",
        "#print(hasil_perbandingan[0][0])\n",
        "#print(hasil_perbandingan[0][1])\n",
        "#print(hasil_perbandingan[0][2])\n",
        "print(score)\n"
      ],
      "execution_count": 75,
      "outputs": [
        {
          "output_type": "stream",
          "text": [
            "[31.46341463414634, 100.0, 50.0, 50.0, 31.0, 50.0, 50.0, 50.0, 50.0, 50.0, 50.0, 100.0, 50.0, 50.0, 60.21505376344085, 57.66129032258064, 50.0, 100.0, 31.0, 31.612903225806452, 57.66129032258064, 57.66129032258064, 57.66129032258064, 57.66129032258064, 100.0, 100.0, 100.0, 100.0, 100.0, 50.0, 100.0, 50.0, 100.0, 31.46341463414634, 57.66129032258064, 50.0, 50.0, 100.0, 100.0, 99.99999999999999, 100.0, 100.0, 100.0, 100.0, 100.0, 31.46341463414634, 100.0, 100.0, 50.0, 50.0, 100.0, 100.0, 100.0, 100.0, 100.0, 100.0, 100.0, 100.0, 100.0, 100.0, 100.0, 100.0, 100.0, 100.0, 100.0, 100.0, 100.0, 100.0, 100.0, nan, 50.0, 50.0, 50.0, 50.0, 50.0, 57.66129032258064, 99.99999999999999, 100.0, 100.0, 100.0, 100.0, 100.0, 100.0, 100.0, 100.0, 100.0, 100.0, 100.0, 100.0, 100.0, 99.99999999999999, 100.0, 100.0, 100.0, 50.0, 100.0, 31.46341463414634, 100.0, 50.0, 99.99999999999999]\n"
          ],
          "name": "stdout"
        },
        {
          "output_type": "stream",
          "text": [
            "/usr/local/lib/python3.7/dist-packages/ipykernel_launcher.py:10: RuntimeWarning: invalid value encountered in double_scalars\n",
            "  # Remove the CWD from sys.path while we load stuff.\n"
          ],
          "name": "stderr"
        }
      ]
    },
    {
      "cell_type": "code",
      "metadata": {
        "colab": {
          "base_uri": "https://localhost:8080/"
        },
        "id": "-PWVIWVfUonS",
        "outputId": "399b83aa-924a-4745-d2a7-153938383866"
      },
      "source": [
        "score\n",
        "print(score)"
      ],
      "execution_count": 76,
      "outputs": [
        {
          "output_type": "stream",
          "text": [
            "[31.46341463414634, 100.0, 50.0, 50.0, 31.0, 50.0, 50.0, 50.0, 50.0, 50.0, 50.0, 100.0, 50.0, 50.0, 60.21505376344085, 57.66129032258064, 50.0, 100.0, 31.0, 31.612903225806452, 57.66129032258064, 57.66129032258064, 57.66129032258064, 57.66129032258064, 100.0, 100.0, 100.0, 100.0, 100.0, 50.0, 100.0, 50.0, 100.0, 31.46341463414634, 57.66129032258064, 50.0, 50.0, 100.0, 100.0, 99.99999999999999, 100.0, 100.0, 100.0, 100.0, 100.0, 31.46341463414634, 100.0, 100.0, 50.0, 50.0, 100.0, 100.0, 100.0, 100.0, 100.0, 100.0, 100.0, 100.0, 100.0, 100.0, 100.0, 100.0, 100.0, 100.0, 100.0, 100.0, 100.0, 100.0, 100.0, nan, 50.0, 50.0, 50.0, 50.0, 50.0, 57.66129032258064, 99.99999999999999, 100.0, 100.0, 100.0, 100.0, 100.0, 100.0, 100.0, 100.0, 100.0, 100.0, 100.0, 100.0, 100.0, 99.99999999999999, 100.0, 100.0, 100.0, 50.0, 100.0, 31.46341463414634, 100.0, 50.0, 99.99999999999999]\n"
          ],
          "name": "stdout"
        }
      ]
    },
    {
      "cell_type": "code",
      "metadata": {
        "id": "Oz8fqr_NrLwN",
        "colab": {
          "base_uri": "https://localhost:8080/",
          "height": 419
        },
        "outputId": "9158b2ab-5130-40c2-a1a4-af3bd0668ed8"
      },
      "source": [
        "data_pemohon['status'] = score\n",
        "data_pemohon"
      ],
      "execution_count": 78,
      "outputs": [
        {
          "output_type": "execute_result",
          "data": {
            "text/html": [
              "<div>\n",
              "<style scoped>\n",
              "    .dataframe tbody tr th:only-of-type {\n",
              "        vertical-align: middle;\n",
              "    }\n",
              "\n",
              "    .dataframe tbody tr th {\n",
              "        vertical-align: top;\n",
              "    }\n",
              "\n",
              "    .dataframe thead th {\n",
              "        text-align: right;\n",
              "    }\n",
              "</style>\n",
              "<table border=\"1\" class=\"dataframe\">\n",
              "  <thead>\n",
              "    <tr style=\"text-align: right;\">\n",
              "      <th></th>\n",
              "      <th>id</th>\n",
              "      <th>pinjaman</th>\n",
              "      <th>pemasukan</th>\n",
              "      <th>status</th>\n",
              "    </tr>\n",
              "  </thead>\n",
              "  <tbody>\n",
              "    <tr>\n",
              "      <th>0</th>\n",
              "      <td>1</td>\n",
              "      <td>15</td>\n",
              "      <td>4</td>\n",
              "      <td>31.463415</td>\n",
              "    </tr>\n",
              "    <tr>\n",
              "      <th>1</th>\n",
              "      <td>2</td>\n",
              "      <td>9</td>\n",
              "      <td>60</td>\n",
              "      <td>100.000000</td>\n",
              "    </tr>\n",
              "    <tr>\n",
              "      <th>2</th>\n",
              "      <td>3</td>\n",
              "      <td>3</td>\n",
              "      <td>7</td>\n",
              "      <td>50.000000</td>\n",
              "    </tr>\n",
              "    <tr>\n",
              "      <th>3</th>\n",
              "      <td>4</td>\n",
              "      <td>5</td>\n",
              "      <td>6</td>\n",
              "      <td>50.000000</td>\n",
              "    </tr>\n",
              "    <tr>\n",
              "      <th>4</th>\n",
              "      <td>5</td>\n",
              "      <td>2</td>\n",
              "      <td>3</td>\n",
              "      <td>31.000000</td>\n",
              "    </tr>\n",
              "    <tr>\n",
              "      <th>...</th>\n",
              "      <td>...</td>\n",
              "      <td>...</td>\n",
              "      <td>...</td>\n",
              "      <td>...</td>\n",
              "    </tr>\n",
              "    <tr>\n",
              "      <th>95</th>\n",
              "      <td>96</td>\n",
              "      <td>25</td>\n",
              "      <td>36</td>\n",
              "      <td>100.000000</td>\n",
              "    </tr>\n",
              "    <tr>\n",
              "      <th>96</th>\n",
              "      <td>97</td>\n",
              "      <td>17</td>\n",
              "      <td>4</td>\n",
              "      <td>31.463415</td>\n",
              "    </tr>\n",
              "    <tr>\n",
              "      <th>97</th>\n",
              "      <td>98</td>\n",
              "      <td>1</td>\n",
              "      <td>54</td>\n",
              "      <td>100.000000</td>\n",
              "    </tr>\n",
              "    <tr>\n",
              "      <th>98</th>\n",
              "      <td>99</td>\n",
              "      <td>7</td>\n",
              "      <td>15</td>\n",
              "      <td>50.000000</td>\n",
              "    </tr>\n",
              "    <tr>\n",
              "      <th>99</th>\n",
              "      <td>100</td>\n",
              "      <td>8</td>\n",
              "      <td>26</td>\n",
              "      <td>100.000000</td>\n",
              "    </tr>\n",
              "  </tbody>\n",
              "</table>\n",
              "<p>100 rows × 4 columns</p>\n",
              "</div>"
            ],
            "text/plain": [
              "     id  pinjaman  pemasukan      status\n",
              "0     1        15          4   31.463415\n",
              "1     2         9         60  100.000000\n",
              "2     3         3          7   50.000000\n",
              "3     4         5          6   50.000000\n",
              "4     5         2          3   31.000000\n",
              "..  ...       ...        ...         ...\n",
              "95   96        25         36  100.000000\n",
              "96   97        17          4   31.463415\n",
              "97   98         1         54  100.000000\n",
              "98   99         7         15   50.000000\n",
              "99  100         8         26  100.000000\n",
              "\n",
              "[100 rows x 4 columns]"
            ]
          },
          "metadata": {
            "tags": []
          },
          "execution_count": 78
        }
      ]
    },
    {
      "cell_type": "code",
      "metadata": {
        "id": "f3Fi9Qc-rQl0",
        "colab": {
          "base_uri": "https://localhost:8080/",
          "height": 419
        },
        "outputId": "45abd5f1-9f45-4537-efdf-35fe3760131f"
      },
      "source": [
        "dataExcel = data_pemohon.copy()\n",
        "dataExcel.sort_values('status', ascending=False, inplace=True)\n",
        "dataExcel"
      ],
      "execution_count": 79,
      "outputs": [
        {
          "output_type": "execute_result",
          "data": {
            "text/html": [
              "<div>\n",
              "<style scoped>\n",
              "    .dataframe tbody tr th:only-of-type {\n",
              "        vertical-align: middle;\n",
              "    }\n",
              "\n",
              "    .dataframe tbody tr th {\n",
              "        vertical-align: top;\n",
              "    }\n",
              "\n",
              "    .dataframe thead th {\n",
              "        text-align: right;\n",
              "    }\n",
              "</style>\n",
              "<table border=\"1\" class=\"dataframe\">\n",
              "  <thead>\n",
              "    <tr style=\"text-align: right;\">\n",
              "      <th></th>\n",
              "      <th>id</th>\n",
              "      <th>pinjaman</th>\n",
              "      <th>pemasukan</th>\n",
              "      <th>status</th>\n",
              "    </tr>\n",
              "  </thead>\n",
              "  <tbody>\n",
              "    <tr>\n",
              "      <th>79</th>\n",
              "      <td>80</td>\n",
              "      <td>19</td>\n",
              "      <td>27</td>\n",
              "      <td>100.000000</td>\n",
              "    </tr>\n",
              "    <tr>\n",
              "      <th>83</th>\n",
              "      <td>84</td>\n",
              "      <td>19</td>\n",
              "      <td>35</td>\n",
              "      <td>100.000000</td>\n",
              "    </tr>\n",
              "    <tr>\n",
              "      <th>82</th>\n",
              "      <td>83</td>\n",
              "      <td>19</td>\n",
              "      <td>27</td>\n",
              "      <td>100.000000</td>\n",
              "    </tr>\n",
              "    <tr>\n",
              "      <th>32</th>\n",
              "      <td>33</td>\n",
              "      <td>20</td>\n",
              "      <td>69</td>\n",
              "      <td>100.000000</td>\n",
              "    </tr>\n",
              "    <tr>\n",
              "      <th>81</th>\n",
              "      <td>82</td>\n",
              "      <td>19</td>\n",
              "      <td>30</td>\n",
              "      <td>100.000000</td>\n",
              "    </tr>\n",
              "    <tr>\n",
              "      <th>...</th>\n",
              "      <td>...</td>\n",
              "      <td>...</td>\n",
              "      <td>...</td>\n",
              "      <td>...</td>\n",
              "    </tr>\n",
              "    <tr>\n",
              "      <th>96</th>\n",
              "      <td>97</td>\n",
              "      <td>17</td>\n",
              "      <td>4</td>\n",
              "      <td>31.463415</td>\n",
              "    </tr>\n",
              "    <tr>\n",
              "      <th>0</th>\n",
              "      <td>1</td>\n",
              "      <td>15</td>\n",
              "      <td>4</td>\n",
              "      <td>31.463415</td>\n",
              "    </tr>\n",
              "    <tr>\n",
              "      <th>18</th>\n",
              "      <td>19</td>\n",
              "      <td>12</td>\n",
              "      <td>3</td>\n",
              "      <td>31.000000</td>\n",
              "    </tr>\n",
              "    <tr>\n",
              "      <th>4</th>\n",
              "      <td>5</td>\n",
              "      <td>2</td>\n",
              "      <td>3</td>\n",
              "      <td>31.000000</td>\n",
              "    </tr>\n",
              "    <tr>\n",
              "      <th>69</th>\n",
              "      <td>70</td>\n",
              "      <td>19</td>\n",
              "      <td>2</td>\n",
              "      <td>NaN</td>\n",
              "    </tr>\n",
              "  </tbody>\n",
              "</table>\n",
              "<p>100 rows × 4 columns</p>\n",
              "</div>"
            ],
            "text/plain": [
              "    id  pinjaman  pemasukan      status\n",
              "79  80        19         27  100.000000\n",
              "83  84        19         35  100.000000\n",
              "82  83        19         27  100.000000\n",
              "32  33        20         69  100.000000\n",
              "81  82        19         30  100.000000\n",
              "..  ..       ...        ...         ...\n",
              "96  97        17          4   31.463415\n",
              "0    1        15          4   31.463415\n",
              "18  19        12          3   31.000000\n",
              "4    5         2          3   31.000000\n",
              "69  70        19          2         NaN\n",
              "\n",
              "[100 rows x 4 columns]"
            ]
          },
          "metadata": {
            "tags": []
          },
          "execution_count": 79
        }
      ]
    },
    {
      "cell_type": "code",
      "metadata": {
        "id": "SYiv58q7sMQV"
      },
      "source": [
        "dataExcel = dataExcel[:10]\n",
        "dataExcel['id'].to_excel('luaran.xls', index=False)\n"
      ],
      "execution_count": 80,
      "outputs": []
    },
    {
      "cell_type": "code",
      "metadata": {
        "id": "6VGNJRk3smKN"
      },
      "source": [
        ""
      ],
      "execution_count": null,
      "outputs": []
    }
  ]
}